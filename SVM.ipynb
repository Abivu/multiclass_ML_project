{
 "cells": [
  {
   "cell_type": "code",
   "execution_count": 3,
   "metadata": {},
   "outputs": [],
   "source": [
    "#  import necessary modules & libraries\n",
    "import pandas as pd\n",
    "from sklearn.svm import SVC\n",
    "from sklearn.model_selection import train_test_split\n",
    "from sklearn.metrics import accuracy_score\n",
    "from imblearn.over_sampling import SMOTE\n",
    "from sklearn.model_selection import GridSearchCV, StratifiedShuffleSplit"
   ]
  },
  {
   "cell_type": "code",
   "execution_count": 4,
   "metadata": {},
   "outputs": [],
   "source": [
    "# read data from file\n",
    "df = pd.read_csv(\"../cleaned_df.csv\", index_col=0)"
   ]
  },
  {
   "cell_type": "code",
   "execution_count": 5,
   "metadata": {},
   "outputs": [
    {
     "data": {
      "text/html": [
       "<div>\n",
       "<style scoped>\n",
       "    .dataframe tbody tr th:only-of-type {\n",
       "        vertical-align: middle;\n",
       "    }\n",
       "\n",
       "    .dataframe tbody tr th {\n",
       "        vertical-align: top;\n",
       "    }\n",
       "\n",
       "    .dataframe thead th {\n",
       "        text-align: right;\n",
       "    }\n",
       "</style>\n",
       "<table border=\"1\" class=\"dataframe\">\n",
       "  <thead>\n",
       "    <tr style=\"text-align: right;\">\n",
       "      <th></th>\n",
       "      <th>available_extra_rooms_in_hospital</th>\n",
       "      <th>bed_grade</th>\n",
       "      <th>severity_of_illness</th>\n",
       "      <th>visitors_with_patient</th>\n",
       "      <th>admission_deposit</th>\n",
       "      <th>hospital_code_1</th>\n",
       "      <th>hospital_code_2</th>\n",
       "      <th>hospital_code_3</th>\n",
       "      <th>hospital_code_4</th>\n",
       "      <th>hospital_code_5</th>\n",
       "      <th>...</th>\n",
       "      <th>age_11-20</th>\n",
       "      <th>age_21-30</th>\n",
       "      <th>age_31-40</th>\n",
       "      <th>age_41-50</th>\n",
       "      <th>age_51-60</th>\n",
       "      <th>age_61-70</th>\n",
       "      <th>age_71-80</th>\n",
       "      <th>age_81-90</th>\n",
       "      <th>age_91-100</th>\n",
       "      <th>stay</th>\n",
       "    </tr>\n",
       "  </thead>\n",
       "  <tbody>\n",
       "    <tr>\n",
       "      <th>0</th>\n",
       "      <td>3</td>\n",
       "      <td>1</td>\n",
       "      <td>0</td>\n",
       "      <td>2</td>\n",
       "      <td>4911.0</td>\n",
       "      <td>0.0</td>\n",
       "      <td>0.0</td>\n",
       "      <td>0.0</td>\n",
       "      <td>0.0</td>\n",
       "      <td>0.0</td>\n",
       "      <td>...</td>\n",
       "      <td>0.0</td>\n",
       "      <td>0.0</td>\n",
       "      <td>0.0</td>\n",
       "      <td>0.0</td>\n",
       "      <td>1.0</td>\n",
       "      <td>0.0</td>\n",
       "      <td>0.0</td>\n",
       "      <td>0.0</td>\n",
       "      <td>0.0</td>\n",
       "      <td>0-10</td>\n",
       "    </tr>\n",
       "    <tr>\n",
       "      <th>1</th>\n",
       "      <td>2</td>\n",
       "      <td>1</td>\n",
       "      <td>0</td>\n",
       "      <td>2</td>\n",
       "      <td>5954.0</td>\n",
       "      <td>0.0</td>\n",
       "      <td>1.0</td>\n",
       "      <td>0.0</td>\n",
       "      <td>0.0</td>\n",
       "      <td>0.0</td>\n",
       "      <td>...</td>\n",
       "      <td>0.0</td>\n",
       "      <td>0.0</td>\n",
       "      <td>0.0</td>\n",
       "      <td>0.0</td>\n",
       "      <td>1.0</td>\n",
       "      <td>0.0</td>\n",
       "      <td>0.0</td>\n",
       "      <td>0.0</td>\n",
       "      <td>0.0</td>\n",
       "      <td>41-50</td>\n",
       "    </tr>\n",
       "  </tbody>\n",
       "</table>\n",
       "<p>2 rows × 126 columns</p>\n",
       "</div>"
      ],
      "text/plain": [
       "   available_extra_rooms_in_hospital  bed_grade  severity_of_illness  \\\n",
       "0                                  3          1                    0   \n",
       "1                                  2          1                    0   \n",
       "\n",
       "   visitors_with_patient  admission_deposit  hospital_code_1  hospital_code_2  \\\n",
       "0                      2             4911.0              0.0              0.0   \n",
       "1                      2             5954.0              0.0              1.0   \n",
       "\n",
       "   hospital_code_3  hospital_code_4  hospital_code_5  ...  age_11-20  \\\n",
       "0              0.0              0.0              0.0  ...        0.0   \n",
       "1              0.0              0.0              0.0  ...        0.0   \n",
       "\n",
       "   age_21-30  age_31-40  age_41-50  age_51-60  age_61-70  age_71-80  \\\n",
       "0        0.0        0.0        0.0        1.0        0.0        0.0   \n",
       "1        0.0        0.0        0.0        1.0        0.0        0.0   \n",
       "\n",
       "   age_81-90  age_91-100   stay  \n",
       "0        0.0         0.0   0-10  \n",
       "1        0.0         0.0  41-50  \n",
       "\n",
       "[2 rows x 126 columns]"
      ]
     },
     "execution_count": 5,
     "metadata": {},
     "output_type": "execute_result"
    }
   ],
   "source": [
    "df.head(2)"
   ]
  },
  {
   "cell_type": "markdown",
   "metadata": {},
   "source": [
    "SVM Algorithm takes a really long time to train on a big dataset; therefore, I would reduce the size but maintain the proportion of classes in the target variable."
   ]
  },
  {
   "cell_type": "code",
   "execution_count": 13,
   "metadata": {},
   "outputs": [
    {
     "data": {
      "text/html": [
       "<div>\n",
       "<style scoped>\n",
       "    .dataframe tbody tr th:only-of-type {\n",
       "        vertical-align: middle;\n",
       "    }\n",
       "\n",
       "    .dataframe tbody tr th {\n",
       "        vertical-align: top;\n",
       "    }\n",
       "\n",
       "    .dataframe thead th {\n",
       "        text-align: right;\n",
       "    }\n",
       "</style>\n",
       "<table border=\"1\" class=\"dataframe\">\n",
       "  <thead>\n",
       "    <tr style=\"text-align: right;\">\n",
       "      <th></th>\n",
       "      <th>available_extra_rooms_in_hospital</th>\n",
       "      <th>bed_grade</th>\n",
       "      <th>severity_of_illness</th>\n",
       "      <th>visitors_with_patient</th>\n",
       "      <th>admission_deposit</th>\n",
       "      <th>hospital_code_1</th>\n",
       "      <th>hospital_code_2</th>\n",
       "      <th>hospital_code_3</th>\n",
       "      <th>hospital_code_4</th>\n",
       "      <th>hospital_code_5</th>\n",
       "      <th>...</th>\n",
       "      <th>age_11-20</th>\n",
       "      <th>age_21-30</th>\n",
       "      <th>age_31-40</th>\n",
       "      <th>age_41-50</th>\n",
       "      <th>age_51-60</th>\n",
       "      <th>age_61-70</th>\n",
       "      <th>age_71-80</th>\n",
       "      <th>age_81-90</th>\n",
       "      <th>age_91-100</th>\n",
       "      <th>stay</th>\n",
       "    </tr>\n",
       "  </thead>\n",
       "  <tbody>\n",
       "    <tr>\n",
       "      <th>96783</th>\n",
       "      <td>4</td>\n",
       "      <td>1</td>\n",
       "      <td>2</td>\n",
       "      <td>2</td>\n",
       "      <td>4013.0</td>\n",
       "      <td>0.0</td>\n",
       "      <td>0.0</td>\n",
       "      <td>0.0</td>\n",
       "      <td>0.0</td>\n",
       "      <td>0.0</td>\n",
       "      <td>...</td>\n",
       "      <td>0.0</td>\n",
       "      <td>1.0</td>\n",
       "      <td>0.0</td>\n",
       "      <td>0.0</td>\n",
       "      <td>0.0</td>\n",
       "      <td>0.0</td>\n",
       "      <td>0.0</td>\n",
       "      <td>0.0</td>\n",
       "      <td>0.0</td>\n",
       "      <td>21-30</td>\n",
       "    </tr>\n",
       "    <tr>\n",
       "      <th>1176</th>\n",
       "      <td>3</td>\n",
       "      <td>1</td>\n",
       "      <td>2</td>\n",
       "      <td>2</td>\n",
       "      <td>3864.0</td>\n",
       "      <td>0.0</td>\n",
       "      <td>1.0</td>\n",
       "      <td>0.0</td>\n",
       "      <td>0.0</td>\n",
       "      <td>0.0</td>\n",
       "      <td>...</td>\n",
       "      <td>0.0</td>\n",
       "      <td>1.0</td>\n",
       "      <td>0.0</td>\n",
       "      <td>0.0</td>\n",
       "      <td>0.0</td>\n",
       "      <td>0.0</td>\n",
       "      <td>0.0</td>\n",
       "      <td>0.0</td>\n",
       "      <td>0.0</td>\n",
       "      <td>21-30</td>\n",
       "    </tr>\n",
       "  </tbody>\n",
       "</table>\n",
       "<p>2 rows × 126 columns</p>\n",
       "</div>"
      ],
      "text/plain": [
       "       available_extra_rooms_in_hospital  bed_grade  severity_of_illness  \\\n",
       "96783                                  4          1                    2   \n",
       "1176                                   3          1                    2   \n",
       "\n",
       "       visitors_with_patient  admission_deposit  hospital_code_1  \\\n",
       "96783                      2             4013.0              0.0   \n",
       "1176                       2             3864.0              0.0   \n",
       "\n",
       "       hospital_code_2  hospital_code_3  hospital_code_4  hospital_code_5  \\\n",
       "96783              0.0              0.0              0.0              0.0   \n",
       "1176               1.0              0.0              0.0              0.0   \n",
       "\n",
       "       ...  age_11-20  age_21-30  age_31-40  age_41-50  age_51-60  age_61-70  \\\n",
       "96783  ...        0.0        1.0        0.0        0.0        0.0        0.0   \n",
       "1176   ...        0.0        1.0        0.0        0.0        0.0        0.0   \n",
       "\n",
       "       age_71-80  age_81-90  age_91-100   stay  \n",
       "96783        0.0        0.0         0.0  21-30  \n",
       "1176         0.0        0.0         0.0  21-30  \n",
       "\n",
       "[2 rows x 126 columns]"
      ]
     },
     "execution_count": 13,
     "metadata": {},
     "output_type": "execute_result"
    }
   ],
   "source": [
    "# Define the sample size\n",
    "sample_size = 10000\n",
    "\n",
    "# Define the desired sample size\n",
    "sample_size = 10000\n",
    "\n",
    "# Get the class distribution\n",
    "class_counts = df[\"stay\"].value_counts().sort_values(ascending=False)\n",
    "\n",
    "# Calculate the sample size for each stratum (proportional to class distribution)\n",
    "sample_size_per_class = (sample_size * class_counts / class_counts.sum()).astype(int)\n",
    "\n",
    "# Create a stratified sample\n",
    "stratified_sample = pd.DataFrame()\n",
    "for class_label, sample_count in sample_size_per_class.items():\n",
    "# Check if there are enough elements in the class to avoid sampling errors\n",
    "  if sample_count > 0:\n",
    "    stratified_sample = pd.concat([stratified_sample, df[df[\"stay\"] == class_label].sample(sample_count)])\n",
    " \n",
    "stratified_sample.head(2)\n",
    "\n"
   ]
  },
  {
   "cell_type": "code",
   "execution_count": 14,
   "metadata": {},
   "outputs": [],
   "source": [
    "X = stratified_sample.drop(columns=[\"stay\"])\n",
    "y = stratified_sample[\"stay\"]"
   ]
  },
  {
   "cell_type": "code",
   "execution_count": 15,
   "metadata": {},
   "outputs": [],
   "source": [
    "\n",
    "\n",
    "# split data with standard 80%/10%/10% split\n",
    "X_train, X_test, y_train, y_test = train_test_split(X, y, test_size=0.2, random_state=42)\n",
    "X_val, X_test, y_val, y_test = train_test_split(X_test, y_test, test_size=0.5, random_state=42)\n"
   ]
  },
  {
   "cell_type": "code",
   "execution_count": 16,
   "metadata": {},
   "outputs": [
    {
     "name": "stdout",
     "output_type": "stream",
     "text": [
      "(7995, 125) (999, 125) (1000, 125)\n"
     ]
    }
   ],
   "source": [
    "# Check the shape of X_train, X_val and X_test\n",
    "print(X_train.shape, X_val.shape, X_test.shape)"
   ]
  },
  {
   "cell_type": "markdown",
   "metadata": {},
   "source": [
    "## Model Development"
   ]
  },
  {
   "cell_type": "code",
   "execution_count": 13,
   "metadata": {},
   "outputs": [],
   "source": [
    "# instantiate classifier with default hyperparameters\n",
    "svc=SVC()\n",
    "\n",
    "# fit classifier to training set\n",
    "svc.fit(X_train, y_train)\n",
    "\n",
    "# make predictions on validation set\n",
    "y_pred = svc.predict(X_val)\n",
    "\n",
    "# calculate and print the accuracy\n",
    "accuracy = accuracy_score(y_val, y_pred)\n",
    "print('Accuracy: ',accuracy)\n"
   ]
  },
  {
   "cell_type": "code",
   "execution_count": null,
   "metadata": {},
   "outputs": [],
   "source": [
    "param_grid = {\"C\": [0.1, 1, 10, 100],\n",
    "            \"gamma\": [1, 0.1, 0.01, 0.001],\n",
    "            \"kernel\": [\"linear\", \"rbf\", \"poly\"],\n",
    "            \"decision_function_shape\": [\"ovo\", \"ovr\"]}"
   ]
  },
  {
   "cell_type": "code",
   "execution_count": null,
   "metadata": {},
   "outputs": [],
   "source": [
    "# Experiment with different values of the C parameter; \n",
    "# try the linear, rbf (with different choices of gamma) \n",
    "# and polynomial kernels (with different degrees);\n",
    "# try both options for decision_function_shape\n"
   ]
  },
  {
   "cell_type": "code",
   "execution_count": null,
   "metadata": {},
   "outputs": [],
   "source": [
    "# Use classification_report and confusion_matrix to evaluate the performance of the model"
   ]
  },
  {
   "cell_type": "code",
   "execution_count": null,
   "metadata": {},
   "outputs": [],
   "source": [
    "# display_tree in utils.py to display each tree"
   ]
  },
  {
   "cell_type": "markdown",
   "metadata": {},
   "source": [
    "## Conclusion\n",
    "\n",
    "Discuss the last hyperparameters based on the training & validation metrics."
   ]
  },
  {
   "cell_type": "markdown",
   "metadata": {},
   "source": [
    "## Comparison\n",
    "\n",
    "Provide a written comparison of the training & validation metrics for SVM & decision tree"
   ]
  },
  {
   "cell_type": "markdown",
   "metadata": {},
   "source": []
  }
 ],
 "metadata": {
  "kernelspec": {
   "display_name": "Python 3",
   "language": "python",
   "name": "python3"
  },
  "language_info": {
   "codemirror_mode": {
    "name": "ipython",
    "version": 3
   },
   "file_extension": ".py",
   "mimetype": "text/x-python",
   "name": "python",
   "nbconvert_exporter": "python",
   "pygments_lexer": "ipython3",
   "version": "3.8.18"
  }
 },
 "nbformat": 4,
 "nbformat_minor": 2
}
