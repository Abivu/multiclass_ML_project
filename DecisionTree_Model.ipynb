{
 "cells": [
  {
   "cell_type": "code",
   "execution_count": 1,
   "metadata": {},
   "outputs": [],
   "source": [
    "#  import necessary modules & libraries\n",
    "import pandas as pd\n",
    "from sklearn.tree import DecisionTreeClassifier\n",
    "from sklearn.model_selection import train_test_split\n",
    "from sklearn.metrics import accuracy_score\n",
    "from imblearn.over_sampling import SMOTE"
   ]
  },
  {
   "cell_type": "code",
   "execution_count": 2,
   "metadata": {},
   "outputs": [],
   "source": [
    "# read data from file\n",
    "df = pd.read_csv(\"../cleaned_df.csv\", index_col=0)\n"
   ]
  },
  {
   "cell_type": "code",
   "execution_count": 3,
   "metadata": {},
   "outputs": [
    {
     "data": {
      "text/html": [
       "<div>\n",
       "<style scoped>\n",
       "    .dataframe tbody tr th:only-of-type {\n",
       "        vertical-align: middle;\n",
       "    }\n",
       "\n",
       "    .dataframe tbody tr th {\n",
       "        vertical-align: top;\n",
       "    }\n",
       "\n",
       "    .dataframe thead th {\n",
       "        text-align: right;\n",
       "    }\n",
       "</style>\n",
       "<table border=\"1\" class=\"dataframe\">\n",
       "  <thead>\n",
       "    <tr style=\"text-align: right;\">\n",
       "      <th></th>\n",
       "      <th>available_extra_rooms_in_hospital</th>\n",
       "      <th>bed_grade</th>\n",
       "      <th>severity_of_illness</th>\n",
       "      <th>visitors_with_patient</th>\n",
       "      <th>admission_deposit</th>\n",
       "      <th>hospital_code_1</th>\n",
       "      <th>hospital_code_2</th>\n",
       "      <th>hospital_code_3</th>\n",
       "      <th>hospital_code_4</th>\n",
       "      <th>hospital_code_5</th>\n",
       "      <th>...</th>\n",
       "      <th>age_11-20</th>\n",
       "      <th>age_21-30</th>\n",
       "      <th>age_31-40</th>\n",
       "      <th>age_41-50</th>\n",
       "      <th>age_51-60</th>\n",
       "      <th>age_61-70</th>\n",
       "      <th>age_71-80</th>\n",
       "      <th>age_81-90</th>\n",
       "      <th>age_91-100</th>\n",
       "      <th>stay</th>\n",
       "    </tr>\n",
       "  </thead>\n",
       "  <tbody>\n",
       "    <tr>\n",
       "      <th>0</th>\n",
       "      <td>3</td>\n",
       "      <td>1</td>\n",
       "      <td>0</td>\n",
       "      <td>2</td>\n",
       "      <td>4911.0</td>\n",
       "      <td>0.0</td>\n",
       "      <td>0.0</td>\n",
       "      <td>0.0</td>\n",
       "      <td>0.0</td>\n",
       "      <td>0.0</td>\n",
       "      <td>...</td>\n",
       "      <td>0.0</td>\n",
       "      <td>0.0</td>\n",
       "      <td>0.0</td>\n",
       "      <td>0.0</td>\n",
       "      <td>1.0</td>\n",
       "      <td>0.0</td>\n",
       "      <td>0.0</td>\n",
       "      <td>0.0</td>\n",
       "      <td>0.0</td>\n",
       "      <td>0-10</td>\n",
       "    </tr>\n",
       "    <tr>\n",
       "      <th>1</th>\n",
       "      <td>2</td>\n",
       "      <td>1</td>\n",
       "      <td>0</td>\n",
       "      <td>2</td>\n",
       "      <td>5954.0</td>\n",
       "      <td>0.0</td>\n",
       "      <td>1.0</td>\n",
       "      <td>0.0</td>\n",
       "      <td>0.0</td>\n",
       "      <td>0.0</td>\n",
       "      <td>...</td>\n",
       "      <td>0.0</td>\n",
       "      <td>0.0</td>\n",
       "      <td>0.0</td>\n",
       "      <td>0.0</td>\n",
       "      <td>1.0</td>\n",
       "      <td>0.0</td>\n",
       "      <td>0.0</td>\n",
       "      <td>0.0</td>\n",
       "      <td>0.0</td>\n",
       "      <td>41-50</td>\n",
       "    </tr>\n",
       "  </tbody>\n",
       "</table>\n",
       "<p>2 rows × 126 columns</p>\n",
       "</div>"
      ],
      "text/plain": [
       "   available_extra_rooms_in_hospital  bed_grade  severity_of_illness  \\\n",
       "0                                  3          1                    0   \n",
       "1                                  2          1                    0   \n",
       "\n",
       "   visitors_with_patient  admission_deposit  hospital_code_1  hospital_code_2  \\\n",
       "0                      2             4911.0              0.0              0.0   \n",
       "1                      2             5954.0              0.0              1.0   \n",
       "\n",
       "   hospital_code_3  hospital_code_4  hospital_code_5  ...  age_11-20  \\\n",
       "0              0.0              0.0              0.0  ...        0.0   \n",
       "1              0.0              0.0              0.0  ...        0.0   \n",
       "\n",
       "   age_21-30  age_31-40  age_41-50  age_51-60  age_61-70  age_71-80  \\\n",
       "0        0.0        0.0        0.0        1.0        0.0        0.0   \n",
       "1        0.0        0.0        0.0        1.0        0.0        0.0   \n",
       "\n",
       "   age_81-90  age_91-100   stay  \n",
       "0        0.0         0.0   0-10  \n",
       "1        0.0         0.0  41-50  \n",
       "\n",
       "[2 rows x 126 columns]"
      ]
     },
     "execution_count": 3,
     "metadata": {},
     "output_type": "execute_result"
    }
   ],
   "source": [
    "# Test data sample\n",
    "df.head(2)"
   ]
  },
  {
   "cell_type": "markdown",
   "metadata": {},
   "source": [
    "## Imbalanced data\n",
    "\n",
    "As mentioned in the dataset notebook, the dataset is imbalanced. I will utilize SMOTE to create synthetic samples for the minor class to address the issue. "
   ]
  },
  {
   "cell_type": "code",
   "execution_count": 4,
   "metadata": {},
   "outputs": [],
   "source": [
    "# Define X and y\n",
    "X = df.drop(columns=[\"stay\"])\n",
    "y = df[\"stay\"]\n",
    "\n",
    "# Oversampling the data\n",
    "smote = SMOTE(sampling_strategy=\"auto\")\n",
    "X, y = smote.fit_resample(X, y)\n"
   ]
  },
  {
   "cell_type": "code",
   "execution_count": 5,
   "metadata": {},
   "outputs": [],
   "source": [
    "\n",
    "# split data with standard 80%/10%/10% split\n",
    "X_train, X_test, y_train, y_test = train_test_split(X, y, test_size=0.2, random_state=42)\n",
    "X_val, X_test, y_val, y_test = train_test_split(X_test, y_test, test_size=0.5, random_state=42)\n"
   ]
  },
  {
   "cell_type": "markdown",
   "metadata": {},
   "source": [
    "### Model Development"
   ]
  },
  {
   "cell_type": "code",
   "execution_count": 6,
   "metadata": {},
   "outputs": [],
   "source": [
    "# Try both Gini impurity index and Entropy index (experiment with different values of max_depth,\n",
    "# max_features, min_impurity_decrease, min_samples_leaf, min_samples_split)\n",
    "\n",
    "dt_gini = DecisionTreeClassifier(criterion='gini', random_state=42)\n",
    "dt_entropy = DecisionTreeClassifier(criterion='entropy', random_state=42)"
   ]
  },
  {
   "cell_type": "code",
   "execution_count": 7,
   "metadata": {},
   "outputs": [
    {
     "name": "stdout",
     "output_type": "stream",
     "text": [
      "Gini model accuracy: 0.5915004156275977\n",
      "Entropy model accuracy: 0.5905756442227764\n"
     ]
    }
   ],
   "source": [
    "# Fit the models\n",
    "dt_gini.fit(X_train, y_train)\n",
    "dt_entropy.fit(X_train, y_train)\n",
    "\n",
    "# Evaluate the models\n",
    "y_pred_gini = dt_gini.predict(X_val)\n",
    "y_pred_entropy = dt_entropy.predict(X_val)\n",
    "\n",
    "# Calculate the accuracy of the models\n",
    "accuracy_gini = accuracy_score(y_val, y_pred_gini)\n",
    "accuracy_entropy = accuracy_score(y_val, y_pred_entropy)\n",
    "\n",
    "print(f\"Gini model accuracy: {accuracy_gini}\")\n",
    "print(f\"Entropy model accuracy: {accuracy_entropy}\")\n"
   ]
  },
  {
   "cell_type": "markdown",
   "metadata": {},
   "source": [
    "The 2 primitive models return the average accuracy. Next, I will leverage GridSearchCV to experiment with different hyperparameters to obtain the best possible results"
   ]
  },
  {
   "cell_type": "code",
   "execution_count": null,
   "metadata": {},
   "outputs": [],
   "source": []
  },
  {
   "cell_type": "code",
   "execution_count": 8,
   "metadata": {},
   "outputs": [],
   "source": [
    "# Use classification_report and confusion_matrix to evaluate the performance of the model"
   ]
  },
  {
   "cell_type": "code",
   "execution_count": 9,
   "metadata": {},
   "outputs": [],
   "source": [
    "# display_tree in utils.py to display each tree"
   ]
  },
  {
   "cell_type": "markdown",
   "metadata": {},
   "source": [
    "## Conclusion\n",
    "\n",
    "Discuss the last hyperparameters based on the training & validation metrics."
   ]
  },
  {
   "cell_type": "code",
   "execution_count": null,
   "metadata": {},
   "outputs": [],
   "source": []
  }
 ],
 "metadata": {
  "kernelspec": {
   "display_name": "Python 3",
   "language": "python",
   "name": "python3"
  },
  "language_info": {
   "codemirror_mode": {
    "name": "ipython",
    "version": 3
   },
   "file_extension": ".py",
   "mimetype": "text/x-python",
   "name": "python",
   "nbconvert_exporter": "python",
   "pygments_lexer": "ipython3",
   "version": "3.8.18"
  }
 },
 "nbformat": 4,
 "nbformat_minor": 2
}
