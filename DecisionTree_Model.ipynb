{
 "cells": [
  {
   "cell_type": "code",
   "execution_count": 12,
   "metadata": {},
   "outputs": [],
   "source": [
    "#  import necessary modules & libraries\n",
    "import pandas as pd\n",
    "from sklearn.tree import DecisionTreeClassifier\n",
    "from sklearn.model_selection import train_test_split\n",
    "from sklearn.metrics import accuracy_score\n",
    "from imblearn.over_sampling import SMOTE\n",
    "from sklearn.model_selection import GridSearchCV"
   ]
  },
  {
   "cell_type": "code",
   "execution_count": 2,
   "metadata": {},
   "outputs": [],
   "source": [
    "# read data from file\n",
    "df = pd.read_csv(\"../cleaned_df.csv\", index_col=0)\n"
   ]
  },
  {
   "cell_type": "code",
   "execution_count": 3,
   "metadata": {},
   "outputs": [
    {
     "data": {
      "text/html": [
       "<div>\n",
       "<style scoped>\n",
       "    .dataframe tbody tr th:only-of-type {\n",
       "        vertical-align: middle;\n",
       "    }\n",
       "\n",
       "    .dataframe tbody tr th {\n",
       "        vertical-align: top;\n",
       "    }\n",
       "\n",
       "    .dataframe thead th {\n",
       "        text-align: right;\n",
       "    }\n",
       "</style>\n",
       "<table border=\"1\" class=\"dataframe\">\n",
       "  <thead>\n",
       "    <tr style=\"text-align: right;\">\n",
       "      <th></th>\n",
       "      <th>available_extra_rooms_in_hospital</th>\n",
       "      <th>bed_grade</th>\n",
       "      <th>severity_of_illness</th>\n",
       "      <th>visitors_with_patient</th>\n",
       "      <th>admission_deposit</th>\n",
       "      <th>hospital_code_1</th>\n",
       "      <th>hospital_code_2</th>\n",
       "      <th>hospital_code_3</th>\n",
       "      <th>hospital_code_4</th>\n",
       "      <th>hospital_code_5</th>\n",
       "      <th>...</th>\n",
       "      <th>age_11-20</th>\n",
       "      <th>age_21-30</th>\n",
       "      <th>age_31-40</th>\n",
       "      <th>age_41-50</th>\n",
       "      <th>age_51-60</th>\n",
       "      <th>age_61-70</th>\n",
       "      <th>age_71-80</th>\n",
       "      <th>age_81-90</th>\n",
       "      <th>age_91-100</th>\n",
       "      <th>stay</th>\n",
       "    </tr>\n",
       "  </thead>\n",
       "  <tbody>\n",
       "    <tr>\n",
       "      <th>0</th>\n",
       "      <td>3</td>\n",
       "      <td>1</td>\n",
       "      <td>0</td>\n",
       "      <td>2</td>\n",
       "      <td>4911.0</td>\n",
       "      <td>0.0</td>\n",
       "      <td>0.0</td>\n",
       "      <td>0.0</td>\n",
       "      <td>0.0</td>\n",
       "      <td>0.0</td>\n",
       "      <td>...</td>\n",
       "      <td>0.0</td>\n",
       "      <td>0.0</td>\n",
       "      <td>0.0</td>\n",
       "      <td>0.0</td>\n",
       "      <td>1.0</td>\n",
       "      <td>0.0</td>\n",
       "      <td>0.0</td>\n",
       "      <td>0.0</td>\n",
       "      <td>0.0</td>\n",
       "      <td>0-10</td>\n",
       "    </tr>\n",
       "    <tr>\n",
       "      <th>1</th>\n",
       "      <td>2</td>\n",
       "      <td>1</td>\n",
       "      <td>0</td>\n",
       "      <td>2</td>\n",
       "      <td>5954.0</td>\n",
       "      <td>0.0</td>\n",
       "      <td>1.0</td>\n",
       "      <td>0.0</td>\n",
       "      <td>0.0</td>\n",
       "      <td>0.0</td>\n",
       "      <td>...</td>\n",
       "      <td>0.0</td>\n",
       "      <td>0.0</td>\n",
       "      <td>0.0</td>\n",
       "      <td>0.0</td>\n",
       "      <td>1.0</td>\n",
       "      <td>0.0</td>\n",
       "      <td>0.0</td>\n",
       "      <td>0.0</td>\n",
       "      <td>0.0</td>\n",
       "      <td>41-50</td>\n",
       "    </tr>\n",
       "  </tbody>\n",
       "</table>\n",
       "<p>2 rows × 126 columns</p>\n",
       "</div>"
      ],
      "text/plain": [
       "   available_extra_rooms_in_hospital  bed_grade  severity_of_illness  \\\n",
       "0                                  3          1                    0   \n",
       "1                                  2          1                    0   \n",
       "\n",
       "   visitors_with_patient  admission_deposit  hospital_code_1  hospital_code_2  \\\n",
       "0                      2             4911.0              0.0              0.0   \n",
       "1                      2             5954.0              0.0              1.0   \n",
       "\n",
       "   hospital_code_3  hospital_code_4  hospital_code_5  ...  age_11-20  \\\n",
       "0              0.0              0.0              0.0  ...        0.0   \n",
       "1              0.0              0.0              0.0  ...        0.0   \n",
       "\n",
       "   age_21-30  age_31-40  age_41-50  age_51-60  age_61-70  age_71-80  \\\n",
       "0        0.0        0.0        0.0        1.0        0.0        0.0   \n",
       "1        0.0        0.0        0.0        1.0        0.0        0.0   \n",
       "\n",
       "   age_81-90  age_91-100   stay  \n",
       "0        0.0         0.0   0-10  \n",
       "1        0.0         0.0  41-50  \n",
       "\n",
       "[2 rows x 126 columns]"
      ]
     },
     "execution_count": 3,
     "metadata": {},
     "output_type": "execute_result"
    }
   ],
   "source": [
    "# Test data sample\n",
    "df.head(2)"
   ]
  },
  {
   "cell_type": "markdown",
   "metadata": {},
   "source": [
    "## Imbalanced data\n",
    "\n",
    "As mentioned in the dataset notebook, the dataset is imbalanced. I will utilize SMOTE to create synthetic samples for the minor class to address the issue. "
   ]
  },
  {
   "cell_type": "code",
   "execution_count": 4,
   "metadata": {},
   "outputs": [],
   "source": [
    "# Define X and y\n",
    "X = df.drop(columns=[\"stay\"])\n",
    "y = df[\"stay\"]\n",
    "\n",
    "# Oversampling the data\n",
    "smote = SMOTE(sampling_strategy=\"auto\")\n",
    "X, y = smote.fit_resample(X, y)\n"
   ]
  },
  {
   "cell_type": "code",
   "execution_count": 5,
   "metadata": {},
   "outputs": [],
   "source": [
    "\n",
    "# split data with standard 80%/10%/10% split\n",
    "X_train, X_test, y_train, y_test = train_test_split(X, y, test_size=0.2, random_state=42)\n",
    "X_val, X_test, y_val, y_test = train_test_split(X_test, y_test, test_size=0.5, random_state=42)\n"
   ]
  },
  {
   "cell_type": "markdown",
   "metadata": {},
   "source": [
    "### Model Development"
   ]
  },
  {
   "cell_type": "code",
   "execution_count": 6,
   "metadata": {},
   "outputs": [],
   "source": [
    "# Try both Gini impurity index and Entropy index (experiment with different values of max_depth,\n",
    "# max_features, min_impurity_decrease, min_samples_leaf, min_samples_split)\n",
    "\n",
    "dt_gini = DecisionTreeClassifier(criterion='gini', random_state=42)\n",
    "dt_entropy = DecisionTreeClassifier(criterion='entropy', random_state=42)"
   ]
  },
  {
   "cell_type": "code",
   "execution_count": 7,
   "metadata": {},
   "outputs": [
    {
     "name": "stdout",
     "output_type": "stream",
     "text": [
      "Gini model accuracy: 0.5915004156275977\n",
      "Entropy model accuracy: 0.5905756442227764\n"
     ]
    }
   ],
   "source": [
    "# Fit the models\n",
    "dt_gini.fit(X_train, y_train)\n",
    "dt_entropy.fit(X_train, y_train)\n",
    "\n",
    "# Evaluate the models\n",
    "y_pred_gini = dt_gini.predict(X_val)\n",
    "y_pred_entropy = dt_entropy.predict(X_val)\n",
    "\n",
    "# Calculate the accuracy of the models\n",
    "accuracy_gini = accuracy_score(y_val, y_pred_gini)\n",
    "accuracy_entropy = accuracy_score(y_val, y_pred_entropy)\n",
    "\n",
    "print(f\"Gini model accuracy: {accuracy_gini}\")\n",
    "print(f\"Entropy model accuracy: {accuracy_entropy}\")\n"
   ]
  },
  {
   "cell_type": "markdown",
   "metadata": {},
   "source": [
    "The 2 primitive models return the average accuracy. Next, I will leverage GridSearchCV to experiment with different hyperparameters to obtain the best possible results"
   ]
  },
  {
   "cell_type": "code",
   "execution_count": 19,
   "metadata": {},
   "outputs": [],
   "source": [
    "param_grid = {\n",
    "    \"max_depth\": [80, 90, 100],  # Maximum tree depth\n",
    "    \"max_features\": [20, 40, None],  # Number of features to consider at each split\n",
    "    'min_impurity_decrease': [0.0, 0.1, 0.2],  # Minimum decrease in impurity required for a split\n",
    "    'min_samples_leaf': [100, 500, 1000],  # Minimum samples required at a leaf node\n",
    "    'min_samples_split': [100, 500, 1000],  # Minimum samples required to split a node\n",
    "    'criterion': ['gini', 'entropy']  # Splitting criterion (either Gini or entropy)\n",
    "}"
   ]
  },
  {
   "cell_type": "code",
   "execution_count": 20,
   "metadata": {},
   "outputs": [],
   "source": [
    "model = DecisionTreeClassifier(random_state=42)\n",
    "\n",
    "grid_search = GridSearchCV(estimator=model, param_grid=param_grid, cv=5,n_jobs=-1, verbose=2, scoring='accuracy')"
   ]
  },
  {
   "cell_type": "code",
   "execution_count": 21,
   "metadata": {},
   "outputs": [
    {
     "name": "stdout",
     "output_type": "stream",
     "text": [
      "Fitting 5 folds for each of 486 candidates, totalling 2430 fits\n"
     ]
    },
    {
     "data": {
      "text/html": [
       "<style>#sk-container-id-2 {color: black;}#sk-container-id-2 pre{padding: 0;}#sk-container-id-2 div.sk-toggleable {background-color: white;}#sk-container-id-2 label.sk-toggleable__label {cursor: pointer;display: block;width: 100%;margin-bottom: 0;padding: 0.3em;box-sizing: border-box;text-align: center;}#sk-container-id-2 label.sk-toggleable__label-arrow:before {content: \"▸\";float: left;margin-right: 0.25em;color: #696969;}#sk-container-id-2 label.sk-toggleable__label-arrow:hover:before {color: black;}#sk-container-id-2 div.sk-estimator:hover label.sk-toggleable__label-arrow:before {color: black;}#sk-container-id-2 div.sk-toggleable__content {max-height: 0;max-width: 0;overflow: hidden;text-align: left;background-color: #f0f8ff;}#sk-container-id-2 div.sk-toggleable__content pre {margin: 0.2em;color: black;border-radius: 0.25em;background-color: #f0f8ff;}#sk-container-id-2 input.sk-toggleable__control:checked~div.sk-toggleable__content {max-height: 200px;max-width: 100%;overflow: auto;}#sk-container-id-2 input.sk-toggleable__control:checked~label.sk-toggleable__label-arrow:before {content: \"▾\";}#sk-container-id-2 div.sk-estimator input.sk-toggleable__control:checked~label.sk-toggleable__label {background-color: #d4ebff;}#sk-container-id-2 div.sk-label input.sk-toggleable__control:checked~label.sk-toggleable__label {background-color: #d4ebff;}#sk-container-id-2 input.sk-hidden--visually {border: 0;clip: rect(1px 1px 1px 1px);clip: rect(1px, 1px, 1px, 1px);height: 1px;margin: -1px;overflow: hidden;padding: 0;position: absolute;width: 1px;}#sk-container-id-2 div.sk-estimator {font-family: monospace;background-color: #f0f8ff;border: 1px dotted black;border-radius: 0.25em;box-sizing: border-box;margin-bottom: 0.5em;}#sk-container-id-2 div.sk-estimator:hover {background-color: #d4ebff;}#sk-container-id-2 div.sk-parallel-item::after {content: \"\";width: 100%;border-bottom: 1px solid gray;flex-grow: 1;}#sk-container-id-2 div.sk-label:hover label.sk-toggleable__label {background-color: #d4ebff;}#sk-container-id-2 div.sk-serial::before {content: \"\";position: absolute;border-left: 1px solid gray;box-sizing: border-box;top: 0;bottom: 0;left: 50%;z-index: 0;}#sk-container-id-2 div.sk-serial {display: flex;flex-direction: column;align-items: center;background-color: white;padding-right: 0.2em;padding-left: 0.2em;position: relative;}#sk-container-id-2 div.sk-item {position: relative;z-index: 1;}#sk-container-id-2 div.sk-parallel {display: flex;align-items: stretch;justify-content: center;background-color: white;position: relative;}#sk-container-id-2 div.sk-item::before, #sk-container-id-2 div.sk-parallel-item::before {content: \"\";position: absolute;border-left: 1px solid gray;box-sizing: border-box;top: 0;bottom: 0;left: 50%;z-index: -1;}#sk-container-id-2 div.sk-parallel-item {display: flex;flex-direction: column;z-index: 1;position: relative;background-color: white;}#sk-container-id-2 div.sk-parallel-item:first-child::after {align-self: flex-end;width: 50%;}#sk-container-id-2 div.sk-parallel-item:last-child::after {align-self: flex-start;width: 50%;}#sk-container-id-2 div.sk-parallel-item:only-child::after {width: 0;}#sk-container-id-2 div.sk-dashed-wrapped {border: 1px dashed gray;margin: 0 0.4em 0.5em 0.4em;box-sizing: border-box;padding-bottom: 0.4em;background-color: white;}#sk-container-id-2 div.sk-label label {font-family: monospace;font-weight: bold;display: inline-block;line-height: 1.2em;}#sk-container-id-2 div.sk-label-container {text-align: center;}#sk-container-id-2 div.sk-container {/* jupyter's `normalize.less` sets `[hidden] { display: none; }` but bootstrap.min.css set `[hidden] { display: none !important; }` so we also need the `!important` here to be able to override the default hidden behavior on the sphinx rendered scikit-learn.org. See: https://github.com/scikit-learn/scikit-learn/issues/21755 */display: inline-block !important;position: relative;}#sk-container-id-2 div.sk-text-repr-fallback {display: none;}</style><div id=\"sk-container-id-2\" class=\"sk-top-container\"><div class=\"sk-text-repr-fallback\"><pre>GridSearchCV(cv=5, estimator=DecisionTreeClassifier(random_state=42), n_jobs=-1,\n",
       "             param_grid={&#x27;criterion&#x27;: [&#x27;gini&#x27;, &#x27;entropy&#x27;],\n",
       "                         &#x27;max_depth&#x27;: [5, 10, 15],\n",
       "                         &#x27;max_features&#x27;: [20, 40, None],\n",
       "                         &#x27;min_impurity_decrease&#x27;: [0.0, 0.1, 0.2],\n",
       "                         &#x27;min_samples_leaf&#x27;: [100, 500, 1000],\n",
       "                         &#x27;min_samples_split&#x27;: [100, 500, 1000]},\n",
       "             scoring=&#x27;accuracy&#x27;, verbose=2)</pre><b>In a Jupyter environment, please rerun this cell to show the HTML representation or trust the notebook. <br />On GitHub, the HTML representation is unable to render, please try loading this page with nbviewer.org.</b></div><div class=\"sk-container\" hidden><div class=\"sk-item sk-dashed-wrapped\"><div class=\"sk-label-container\"><div class=\"sk-label sk-toggleable\"><input class=\"sk-toggleable__control sk-hidden--visually\" id=\"sk-estimator-id-4\" type=\"checkbox\" ><label for=\"sk-estimator-id-4\" class=\"sk-toggleable__label sk-toggleable__label-arrow\">GridSearchCV</label><div class=\"sk-toggleable__content\"><pre>GridSearchCV(cv=5, estimator=DecisionTreeClassifier(random_state=42), n_jobs=-1,\n",
       "             param_grid={&#x27;criterion&#x27;: [&#x27;gini&#x27;, &#x27;entropy&#x27;],\n",
       "                         &#x27;max_depth&#x27;: [5, 10, 15],\n",
       "                         &#x27;max_features&#x27;: [20, 40, None],\n",
       "                         &#x27;min_impurity_decrease&#x27;: [0.0, 0.1, 0.2],\n",
       "                         &#x27;min_samples_leaf&#x27;: [100, 500, 1000],\n",
       "                         &#x27;min_samples_split&#x27;: [100, 500, 1000]},\n",
       "             scoring=&#x27;accuracy&#x27;, verbose=2)</pre></div></div></div><div class=\"sk-parallel\"><div class=\"sk-parallel-item\"><div class=\"sk-item\"><div class=\"sk-label-container\"><div class=\"sk-label sk-toggleable\"><input class=\"sk-toggleable__control sk-hidden--visually\" id=\"sk-estimator-id-5\" type=\"checkbox\" ><label for=\"sk-estimator-id-5\" class=\"sk-toggleable__label sk-toggleable__label-arrow\">estimator: DecisionTreeClassifier</label><div class=\"sk-toggleable__content\"><pre>DecisionTreeClassifier(random_state=42)</pre></div></div></div><div class=\"sk-serial\"><div class=\"sk-item\"><div class=\"sk-estimator sk-toggleable\"><input class=\"sk-toggleable__control sk-hidden--visually\" id=\"sk-estimator-id-6\" type=\"checkbox\" ><label for=\"sk-estimator-id-6\" class=\"sk-toggleable__label sk-toggleable__label-arrow\">DecisionTreeClassifier</label><div class=\"sk-toggleable__content\"><pre>DecisionTreeClassifier(random_state=42)</pre></div></div></div></div></div></div></div></div></div></div>"
      ],
      "text/plain": [
       "GridSearchCV(cv=5, estimator=DecisionTreeClassifier(random_state=42), n_jobs=-1,\n",
       "             param_grid={'criterion': ['gini', 'entropy'],\n",
       "                         'max_depth': [5, 10, 15],\n",
       "                         'max_features': [20, 40, None],\n",
       "                         'min_impurity_decrease': [0.0, 0.1, 0.2],\n",
       "                         'min_samples_leaf': [100, 500, 1000],\n",
       "                         'min_samples_split': [100, 500, 1000]},\n",
       "             scoring='accuracy', verbose=2)"
      ]
     },
     "execution_count": 21,
     "metadata": {},
     "output_type": "execute_result"
    }
   ],
   "source": [
    "grid_search.fit(X_train, y_train)"
   ]
  },
  {
   "cell_type": "code",
   "execution_count": 22,
   "metadata": {},
   "outputs": [
    {
     "name": "stdout",
     "output_type": "stream",
     "text": [
      "Best Model: DecisionTreeClassifier(max_depth=15, min_samples_leaf=100,\n",
      "                       min_samples_split=100, random_state=42)\n",
      "Best Accuracy: 0.4275587073981712\n"
     ]
    }
   ],
   "source": [
    "best_model = grid_search.best_estimator_\n",
    "best_accuracy = grid_search.best_score_\n",
    "print(\"Best Model:\", best_model)\n",
    "print(\"Best Accuracy:\", best_accuracy)\n"
   ]
  },
  {
   "cell_type": "markdown",
   "metadata": {},
   "source": [
    "The best model I can find at this point is dt_gini."
   ]
  },
  {
   "cell_type": "code",
   "execution_count": 30,
   "metadata": {},
   "outputs": [
    {
     "name": "stdout",
     "output_type": "stream",
     "text": [
      "classification report on training:\n",
      "                    precision    recall  f1-score   support\n",
      "\n",
      "              0-10       1.00      1.00      1.00     70038\n",
      "             11-20       1.00      1.00      1.00     69968\n",
      "             21-30       1.00      1.00      1.00     69844\n",
      "             31-40       1.00      1.00      1.00     69940\n",
      "             41-50       1.00      1.00      1.00     69977\n",
      "             51-60       1.00      1.00      1.00     70165\n",
      "             61-70       1.00      1.00      1.00     69916\n",
      "             71-80       1.00      1.00      1.00     70114\n",
      "             81-90       1.00      1.00      1.00     69988\n",
      "            91-100       1.00      1.00      1.00     70102\n",
      "More than 100 Days       1.00      1.00      1.00     69868\n",
      "\n",
      "          accuracy                           1.00    769920\n",
      "         macro avg       1.00      1.00      1.00    769920\n",
      "      weighted avg       1.00      1.00      1.00    769920\n",
      "\n",
      "Classification Report on validation:\n",
      "                    precision    recall  f1-score   support\n",
      "\n",
      "              0-10       0.57      0.57      0.57      8793\n",
      "             11-20       0.34      0.34      0.34      8799\n",
      "             21-30       0.39      0.38      0.39      8809\n",
      "             31-40       0.29      0.28      0.29      8839\n",
      "             41-50       0.61      0.61      0.61      8759\n",
      "             51-60       0.44      0.41      0.42      8603\n",
      "             61-70       0.84      0.88      0.86      8861\n",
      "             71-80       0.62      0.62      0.62      8608\n",
      "             81-90       0.77      0.80      0.79      8662\n",
      "            91-100       0.82      0.86      0.84      8674\n",
      "More than 100 Days       0.77      0.76      0.76      8833\n",
      "\n",
      "          accuracy                           0.59     96240\n",
      "         macro avg       0.59      0.59      0.59     96240\n",
      "      weighted avg       0.59      0.59      0.59     96240\n",
      "\n"
     ]
    }
   ],
   "source": [
    "# Use classification_report and confusion_matrix to evaluate the performance of the model\n",
    "from sklearn.metrics import classification_report, confusion_matrix\n",
    "\n",
    "print(\"classification report on training:\")\n",
    "print(classification_report(y_train, dt_gini.predict(X_train)))\n",
    "print(\"Classification Report on validation:\")\n",
    "print(classification_report(y_val, dt_gini.predict(X_val)))\n",
    "\n",
    "\n"
   ]
  },
  {
   "cell_type": "code",
   "execution_count": 37,
   "metadata": {},
   "outputs": [
    {
     "name": "stdout",
     "output_type": "stream",
     "text": [
      "                    0-10  11-20  21-30  31-40  41-50  51-60  61-70  71-80  \\\n",
      "0-10                4999   1031    618    668    724    261    180    154   \n",
      "11-20               1133   2957   2358   1226    417    409     75    124   \n",
      "21-30                662   2453   3374   1334    384    354     77     78   \n",
      "31-40                645   1198   1307   2483    805   1245    220    478   \n",
      "41-50                682    354    388    665   5355    346    391    249   \n",
      "51-60                273    421    342   1272    393   3499    164   1066   \n",
      "61-70                 98     59     82    123    249    107   7801    126   \n",
      "71-80                129    128     68    407    234    855    162   5376   \n",
      "81-90                 38     23     44    101     80    366     74    335   \n",
      "91-100                25     27      9    124     67    243     70    292   \n",
      "More than 100 Days    53     34     28    137    110    335    103    434   \n",
      "\n",
      "                    81-90  91-100  More than 100 Days  \n",
      "0-10                   46      48                  64  \n",
      "11-20                  34      33                  33  \n",
      "21-30                  28      29                  36  \n",
      "31-40                 173     131                 154  \n",
      "41-50                 102     121                 106  \n",
      "51-60                 463     337                 373  \n",
      "61-70                  85      70                  61  \n",
      "71-80                 387     391                 471  \n",
      "81-90                6926     163                 512  \n",
      "91-100                148    7418                 251  \n",
      "More than 100 Days    572     289                6738  \n"
     ]
    }
   ],
   "source": [
    "            # confusion matrix\n",
    "cm = confusion_matrix(y_val, dt_gini.predict(X_val))\n",
    "class_names = [\"0-10\", \"11-20\", \"21-30\",\"31-40\", \"41-50\", \"51-60\", \"61-70\", \"71-80\", \"81-90\", \"91-100\", \"More than 100 Days\"]\n",
    "\n",
    "# Create a DataFrame with cm and class_names\n",
    "df_cm = pd.DataFrame(cm, index=class_names, columns=class_names)\n",
    "print(df_cm)"
   ]
  },
  {
   "cell_type": "code",
   "execution_count": 9,
   "metadata": {},
   "outputs": [],
   "source": [
    "# display_tree in utils.py to display each tree"
   ]
  },
  {
   "cell_type": "markdown",
   "metadata": {},
   "source": [
    "## Conclusion\n",
    "\n",
    "Discuss the last hyperparameters based on the training & validation metrics."
   ]
  },
  {
   "cell_type": "code",
   "execution_count": null,
   "metadata": {},
   "outputs": [],
   "source": []
  }
 ],
 "metadata": {
  "kernelspec": {
   "display_name": "Python 3",
   "language": "python",
   "name": "python3"
  },
  "language_info": {
   "codemirror_mode": {
    "name": "ipython",
    "version": 3
   },
   "file_extension": ".py",
   "mimetype": "text/x-python",
   "name": "python",
   "nbconvert_exporter": "python",
   "pygments_lexer": "ipython3",
   "version": "3.8.18"
  }
 },
 "nbformat": 4,
 "nbformat_minor": 2
}
